{
 "cells": [
  {
   "cell_type": "markdown",
   "metadata": {
    "id": "3DR-eO17geWu"
   },
   "source": [
    "# Convolutional Neural Network"
   ]
  },
  {
   "cell_type": "markdown",
   "metadata": {
    "id": "EMefrVPCg-60"
   },
   "source": [
    "### Importing the libraries"
   ]
  },
  {
   "cell_type": "code",
   "execution_count": 95,
   "metadata": {
    "executionInfo": {
     "elapsed": 4097,
     "status": "ok",
     "timestamp": 1727869696217,
     "user": {
      "displayName": "Hadelin de Ponteves",
      "userId": "15047218817161520419"
     },
     "user_tz": -240
    },
    "id": "sCV30xyVhFbE"
   },
   "outputs": [],
   "source": [
    "import tensorflow as tf\n",
    "from tensorflow.keras.models import Sequential\n",
    "from tensorflow.keras.layers import Conv2D, MaxPooling2D, Flatten, Dense"
   ]
  },
  {
   "cell_type": "code",
   "execution_count": 96,
   "metadata": {
    "colab": {
     "base_uri": "https://localhost:8080/",
     "height": 35
    },
    "executionInfo": {
     "elapsed": 612,
     "status": "ok",
     "timestamp": 1727869699295,
     "user": {
      "displayName": "Hadelin de Ponteves",
      "userId": "15047218817161520419"
     },
     "user_tz": -240
    },
    "id": "FIleuCAjoFD8",
    "outputId": "9c409700-4a44-4ac5-b45a-374e448511a6"
   },
   "outputs": [],
   "source": [
    "from tensorflow.keras.preprocessing.image import ImageDataGenerator\n",
    "import numpy as np\n",
    "from tensorflow.keras.preprocessing import image"
   ]
  },
  {
   "cell_type": "markdown",
   "metadata": {
    "id": "oxQxCBWyoGPE"
   },
   "source": [
    "## Part 1 - Data Preprocessing"
   ]
  },
  {
   "cell_type": "markdown",
   "metadata": {
    "id": "MvE-heJNo3GG"
   },
   "source": [
    "### Preprocessing the Training set"
   ]
  },
  {
   "cell_type": "code",
   "execution_count": 97,
   "metadata": {
    "colab": {
     "base_uri": "https://localhost:8080/"
    },
    "executionInfo": {
     "elapsed": 404,
     "status": "ok",
     "timestamp": 1727869709542,
     "user": {
      "displayName": "Hadelin de Ponteves",
      "userId": "15047218817161520419"
     },
     "user_tz": -240
    },
    "id": "0koUcJMJpEBD",
    "outputId": "12d2b27d-22f4-4af3-833f-5ca0cd00336c"
   },
   "outputs": [
    {
     "name": "stdout",
     "output_type": "stream",
     "text": [
      "Found 8000 images belonging to 2 classes.\n"
     ]
    }
   ],
   "source": [
    "train_datagen = ImageDataGenerator(rescale=1./255, shear_range=0.2, zoom_range=0.2, horizontal_flip=True)\n",
    "\n",
    "training_set = train_datagen.flow_from_directory('dataset/training_set',\n",
    "                                                 target_size=(64, 64),\n",
    "                                                 batch_size=32,\n",
    "                                                 class_mode='binary')"
   ]
  },
  {
   "cell_type": "markdown",
   "metadata": {
    "id": "mrCMmGw9pHys"
   },
   "source": [
    "### Preprocessing the Test set"
   ]
  },
  {
   "cell_type": "code",
   "execution_count": 98,
   "metadata": {
    "colab": {
     "base_uri": "https://localhost:8080/"
    },
    "executionInfo": {
     "elapsed": 432,
     "status": "ok",
     "timestamp": 1727869749266,
     "user": {
      "displayName": "Hadelin de Ponteves",
      "userId": "15047218817161520419"
     },
     "user_tz": -240
    },
    "id": "SH4WzfOhpKc3",
    "outputId": "eefdf71b-6707-4ad0-99db-04603d820197"
   },
   "outputs": [
    {
     "name": "stdout",
     "output_type": "stream",
     "text": [
      "Found 2000 images belonging to 2 classes.\n"
     ]
    }
   ],
   "source": [
    "test_datagen = ImageDataGenerator(rescale=1./255)\n",
    "\n",
    "test_set = test_datagen.flow_from_directory('dataset/test_set',\n",
    "                                            target_size=(64, 64),\n",
    "                                            batch_size=32,\n",
    "                                            class_mode='binary')"
   ]
  },
  {
   "cell_type": "markdown",
   "metadata": {
    "id": "af8O4l90gk7B"
   },
   "source": [
    "## Part 2 - Building the CNN"
   ]
  },
  {
   "cell_type": "markdown",
   "metadata": {
    "id": "ces1gXY2lmoX"
   },
   "source": [
    "### Initialising the CNN"
   ]
  },
  {
   "cell_type": "code",
   "execution_count": 99,
   "metadata": {
    "executionInfo": {
     "elapsed": 470,
     "status": "ok",
     "timestamp": 1727869817668,
     "user": {
      "displayName": "Hadelin de Ponteves",
      "userId": "15047218817161520419"
     },
     "user_tz": -240
    },
    "id": "SAUt4UMPlhLS"
   },
   "outputs": [],
   "source": [
    "cnn = Sequential()"
   ]
  },
  {
   "cell_type": "markdown",
   "metadata": {
    "id": "u5YJj_XMl5LF"
   },
   "source": [
    "### Step 1 - Convolution"
   ]
  },
  {
   "cell_type": "code",
   "execution_count": 100,
   "metadata": {
    "colab": {
     "base_uri": "https://localhost:8080/"
    },
    "executionInfo": {
     "elapsed": 415,
     "status": "ok",
     "timestamp": 1727869820333,
     "user": {
      "displayName": "Hadelin de Ponteves",
      "userId": "15047218817161520419"
     },
     "user_tz": -240
    },
    "id": "XPzPrMckl-hV",
    "outputId": "329e2f0a-ec6c-4b72-c6ad-000f7ba7cda6"
   },
   "outputs": [],
   "source": [
    "cnn.add(Conv2D(filters=32, kernel_size=3, activation='relu', input_shape=[64, 64, 3]))"
   ]
  },
  {
   "cell_type": "markdown",
   "metadata": {
    "id": "tf87FpvxmNOJ"
   },
   "source": [
    "### Step 2 - Pooling"
   ]
  },
  {
   "cell_type": "code",
   "execution_count": 101,
   "metadata": {
    "executionInfo": {
     "elapsed": 637,
     "status": "ok",
     "timestamp": 1727869823557,
     "user": {
      "displayName": "Hadelin de Ponteves",
      "userId": "15047218817161520419"
     },
     "user_tz": -240
    },
    "id": "ncpqPl69mOac"
   },
   "outputs": [],
   "source": [
    "cnn.add(MaxPooling2D(pool_size=2, strides=2))"
   ]
  },
  {
   "cell_type": "markdown",
   "metadata": {
    "id": "xaTOgD8rm4mU"
   },
   "source": [
    "### Adding a second convolutional layer"
   ]
  },
  {
   "cell_type": "code",
   "execution_count": 102,
   "metadata": {
    "executionInfo": {
     "elapsed": 406,
     "status": "ok",
     "timestamp": 1727869826266,
     "user": {
      "displayName": "Hadelin de Ponteves",
      "userId": "15047218817161520419"
     },
     "user_tz": -240
    },
    "id": "i_-FZjn_m8gk"
   },
   "outputs": [],
   "source": [
    "cnn.add(Conv2D(filters=32, kernel_size=3, activation='relu'))\n",
    "cnn.add(MaxPooling2D(pool_size=2, strides=2))"
   ]
  },
  {
   "cell_type": "markdown",
   "metadata": {
    "id": "tmiEuvTunKfk"
   },
   "source": [
    "### Step 3 - Flattening"
   ]
  },
  {
   "cell_type": "code",
   "execution_count": 103,
   "metadata": {
    "executionInfo": {
     "elapsed": 617,
     "status": "ok",
     "timestamp": 1727869828932,
     "user": {
      "displayName": "Hadelin de Ponteves",
      "userId": "15047218817161520419"
     },
     "user_tz": -240
    },
    "id": "6AZeOGCvnNZn"
   },
   "outputs": [],
   "source": [
    "cnn.add(Flatten())"
   ]
  },
  {
   "cell_type": "markdown",
   "metadata": {
    "id": "dAoSECOm203v"
   },
   "source": [
    "### Step 4 - Full Connection"
   ]
  },
  {
   "cell_type": "code",
   "execution_count": 104,
   "metadata": {
    "executionInfo": {
     "elapsed": 384,
     "status": "ok",
     "timestamp": 1727869831487,
     "user": {
      "displayName": "Hadelin de Ponteves",
      "userId": "15047218817161520419"
     },
     "user_tz": -240
    },
    "id": "8GtmUlLd26Nq"
   },
   "outputs": [],
   "source": [
    "cnn.add(Dense(units=128, activation='relu'))"
   ]
  },
  {
   "cell_type": "markdown",
   "metadata": {
    "id": "yTldFvbX28Na"
   },
   "source": [
    "### Step 5 - Output Layer"
   ]
  },
  {
   "cell_type": "code",
   "execution_count": 105,
   "metadata": {
    "executionInfo": {
     "elapsed": 433,
     "status": "ok",
     "timestamp": 1727870028191,
     "user": {
      "displayName": "Hadelin de Ponteves",
      "userId": "15047218817161520419"
     },
     "user_tz": -240
    },
    "id": "1p_Zj1Mc3Ko_"
   },
   "outputs": [],
   "source": [
    "cnn.add(Dense(units=1, activation='sigmoid'))"
   ]
  },
  {
   "cell_type": "markdown",
   "metadata": {
    "id": "D6XkI90snSDl"
   },
   "source": [
    "## Part 3 - Training the CNN"
   ]
  },
  {
   "cell_type": "markdown",
   "metadata": {
    "id": "vfrFQACEnc6i"
   },
   "source": [
    "### Compiling the CNN"
   ]
  },
  {
   "cell_type": "code",
   "execution_count": 106,
   "metadata": {
    "executionInfo": {
     "elapsed": 416,
     "status": "ok",
     "timestamp": 1727870049309,
     "user": {
      "displayName": "Hadelin de Ponteves",
      "userId": "15047218817161520419"
     },
     "user_tz": -240
    },
    "id": "NALksrNQpUlJ"
   },
   "outputs": [],
   "source": [
    "cnn.compile(optimizer='adam', loss='binary_crossentropy', metrics=['accuracy'])"
   ]
  },
  {
   "cell_type": "markdown",
   "metadata": {
    "id": "ehS-v3MIpX2h"
   },
   "source": [
    "### Training the CNN on the Training set and evaluating it on the Test set"
   ]
  },
  {
   "cell_type": "code",
   "execution_count": 107,
   "metadata": {
    "colab": {
     "base_uri": "https://localhost:8080/"
    },
    "executionInfo": {
     "elapsed": 53294,
     "status": "ok",
     "timestamp": 1727870127564,
     "user": {
      "displayName": "Hadelin de Ponteves",
      "userId": "15047218817161520419"
     },
     "user_tz": -240
    },
    "id": "XUj1W4PJptta",
    "outputId": "6af733bf-672f-4229-efe2-f0847b4118e7"
   },
   "outputs": [
    {
     "name": "stdout",
     "output_type": "stream",
     "text": [
      "Epoch 1/50\n",
      "250/250 [==============================] - 59s 232ms/step - loss: 0.6645 - accuracy: 0.5916 - val_loss: 0.5915 - val_accuracy: 0.6810\n",
      "Epoch 2/50\n",
      "250/250 [==============================] - 57s 228ms/step - loss: 0.6001 - accuracy: 0.6762 - val_loss: 0.5448 - val_accuracy: 0.7295\n",
      "Epoch 3/50\n",
      "250/250 [==============================] - 57s 227ms/step - loss: 0.5507 - accuracy: 0.7146 - val_loss: 0.5623 - val_accuracy: 0.7125\n",
      "Epoch 4/50\n",
      "250/250 [==============================] - 57s 228ms/step - loss: 0.5314 - accuracy: 0.7339 - val_loss: 0.5184 - val_accuracy: 0.7500\n",
      "Epoch 5/50\n",
      "250/250 [==============================] - 71s 284ms/step - loss: 0.5140 - accuracy: 0.7454 - val_loss: 0.5114 - val_accuracy: 0.7475\n",
      "Epoch 6/50\n",
      "250/250 [==============================] - 86s 342ms/step - loss: 0.4993 - accuracy: 0.7554 - val_loss: 0.4812 - val_accuracy: 0.7765\n",
      "Epoch 7/50\n",
      "250/250 [==============================] - 65s 260ms/step - loss: 0.4812 - accuracy: 0.7686 - val_loss: 0.4627 - val_accuracy: 0.7785\n",
      "Epoch 8/50\n",
      "250/250 [==============================] - 63s 251ms/step - loss: 0.4588 - accuracy: 0.7829 - val_loss: 0.5257 - val_accuracy: 0.7395\n",
      "Epoch 9/50\n",
      "250/250 [==============================] - 63s 254ms/step - loss: 0.4563 - accuracy: 0.7844 - val_loss: 0.5222 - val_accuracy: 0.7515\n",
      "Epoch 10/50\n",
      "250/250 [==============================] - 62s 246ms/step - loss: 0.4378 - accuracy: 0.7922 - val_loss: 0.4790 - val_accuracy: 0.7815\n",
      "Epoch 11/50\n",
      "250/250 [==============================] - 57s 228ms/step - loss: 0.4193 - accuracy: 0.8049 - val_loss: 0.4460 - val_accuracy: 0.7990\n",
      "Epoch 12/50\n",
      "250/250 [==============================] - 57s 229ms/step - loss: 0.4029 - accuracy: 0.8104 - val_loss: 0.4623 - val_accuracy: 0.7860\n",
      "Epoch 13/50\n",
      "250/250 [==============================] - 64s 256ms/step - loss: 0.4004 - accuracy: 0.8145 - val_loss: 0.4625 - val_accuracy: 0.7940\n",
      "Epoch 14/50\n",
      "250/250 [==============================] - 65s 259ms/step - loss: 0.3823 - accuracy: 0.8314 - val_loss: 0.4447 - val_accuracy: 0.7975\n",
      "Epoch 15/50\n",
      "250/250 [==============================] - 62s 250ms/step - loss: 0.3758 - accuracy: 0.8269 - val_loss: 0.4485 - val_accuracy: 0.8030\n",
      "Epoch 16/50\n",
      "250/250 [==============================] - 57s 229ms/step - loss: 0.3558 - accuracy: 0.8365 - val_loss: 0.4441 - val_accuracy: 0.8030\n",
      "Epoch 17/50\n",
      "250/250 [==============================] - 58s 232ms/step - loss: 0.3447 - accuracy: 0.8469 - val_loss: 0.4705 - val_accuracy: 0.7980\n",
      "Epoch 18/50\n",
      "250/250 [==============================] - 65s 261ms/step - loss: 0.3390 - accuracy: 0.8522 - val_loss: 0.4373 - val_accuracy: 0.7995\n",
      "Epoch 19/50\n",
      "250/250 [==============================] - 63s 250ms/step - loss: 0.3227 - accuracy: 0.8574 - val_loss: 0.4818 - val_accuracy: 0.7840\n",
      "Epoch 20/50\n",
      "250/250 [==============================] - 58s 233ms/step - loss: 0.3108 - accuracy: 0.8624 - val_loss: 0.4628 - val_accuracy: 0.7940\n",
      "Epoch 21/50\n",
      "250/250 [==============================] - 58s 233ms/step - loss: 0.2970 - accuracy: 0.8726 - val_loss: 0.5870 - val_accuracy: 0.7510\n",
      "Epoch 22/50\n",
      "250/250 [==============================] - 58s 232ms/step - loss: 0.2861 - accuracy: 0.8771 - val_loss: 0.4666 - val_accuracy: 0.7980\n",
      "Epoch 23/50\n",
      "250/250 [==============================] - 60s 240ms/step - loss: 0.2711 - accuracy: 0.8889 - val_loss: 0.4977 - val_accuracy: 0.7975\n",
      "Epoch 24/50\n",
      "250/250 [==============================] - 59s 236ms/step - loss: 0.2657 - accuracy: 0.8854 - val_loss: 0.4907 - val_accuracy: 0.8020\n",
      "Epoch 25/50\n",
      "250/250 [==============================] - 58s 232ms/step - loss: 0.2479 - accuracy: 0.8975 - val_loss: 0.5288 - val_accuracy: 0.7830\n",
      "Epoch 26/50\n",
      "250/250 [==============================] - 58s 232ms/step - loss: 0.2382 - accuracy: 0.9014 - val_loss: 0.5473 - val_accuracy: 0.7915\n",
      "Epoch 27/50\n",
      "250/250 [==============================] - 58s 231ms/step - loss: 0.2354 - accuracy: 0.9024 - val_loss: 0.5122 - val_accuracy: 0.7960\n",
      "Epoch 28/50\n",
      "250/250 [==============================] - 58s 230ms/step - loss: 0.2217 - accuracy: 0.9060 - val_loss: 0.5007 - val_accuracy: 0.8040\n",
      "Epoch 29/50\n",
      "250/250 [==============================] - 57s 227ms/step - loss: 0.2117 - accuracy: 0.9095 - val_loss: 0.6074 - val_accuracy: 0.7850\n",
      "Epoch 30/50\n",
      "250/250 [==============================] - 56s 224ms/step - loss: 0.2003 - accuracy: 0.9194 - val_loss: 0.6073 - val_accuracy: 0.7900\n",
      "Epoch 31/50\n",
      "250/250 [==============================] - 56s 225ms/step - loss: 0.1885 - accuracy: 0.9244 - val_loss: 0.6275 - val_accuracy: 0.8050\n",
      "Epoch 32/50\n",
      "250/250 [==============================] - 56s 224ms/step - loss: 0.1880 - accuracy: 0.9250 - val_loss: 0.6138 - val_accuracy: 0.7945\n",
      "Epoch 33/50\n",
      "250/250 [==============================] - 57s 229ms/step - loss: 0.1697 - accuracy: 0.9354 - val_loss: 0.6341 - val_accuracy: 0.8000\n",
      "Epoch 34/50\n",
      "250/250 [==============================] - 56s 225ms/step - loss: 0.1691 - accuracy: 0.9341 - val_loss: 0.6923 - val_accuracy: 0.7855\n",
      "Epoch 35/50\n",
      "250/250 [==============================] - 56s 224ms/step - loss: 0.1571 - accuracy: 0.9373 - val_loss: 0.6545 - val_accuracy: 0.8005\n",
      "Epoch 36/50\n",
      "250/250 [==============================] - 56s 225ms/step - loss: 0.1530 - accuracy: 0.9376 - val_loss: 0.6983 - val_accuracy: 0.7880\n",
      "Epoch 37/50\n",
      "250/250 [==============================] - 56s 224ms/step - loss: 0.1448 - accuracy: 0.9435 - val_loss: 0.6324 - val_accuracy: 0.8110\n",
      "Epoch 38/50\n",
      "250/250 [==============================] - 56s 225ms/step - loss: 0.1432 - accuracy: 0.9420 - val_loss: 0.7116 - val_accuracy: 0.7990\n",
      "Epoch 39/50\n",
      "250/250 [==============================] - 56s 225ms/step - loss: 0.1382 - accuracy: 0.9439 - val_loss: 0.6942 - val_accuracy: 0.7970\n",
      "Epoch 40/50\n",
      "250/250 [==============================] - 56s 225ms/step - loss: 0.1269 - accuracy: 0.9501 - val_loss: 0.7128 - val_accuracy: 0.8000\n",
      "Epoch 41/50\n",
      "250/250 [==============================] - 56s 225ms/step - loss: 0.1304 - accuracy: 0.9516 - val_loss: 0.6755 - val_accuracy: 0.7950\n",
      "Epoch 42/50\n",
      "250/250 [==============================] - 56s 226ms/step - loss: 0.1284 - accuracy: 0.9523 - val_loss: 0.7273 - val_accuracy: 0.7920\n",
      "Epoch 43/50\n",
      "250/250 [==============================] - 56s 225ms/step - loss: 0.1173 - accuracy: 0.9544 - val_loss: 0.7863 - val_accuracy: 0.7915\n",
      "Epoch 44/50\n",
      "250/250 [==============================] - 57s 226ms/step - loss: 0.1141 - accuracy: 0.9550 - val_loss: 0.7696 - val_accuracy: 0.8075\n",
      "Epoch 45/50\n",
      "250/250 [==============================] - 56s 226ms/step - loss: 0.1069 - accuracy: 0.9603 - val_loss: 0.7623 - val_accuracy: 0.8005\n",
      "Epoch 46/50\n",
      "250/250 [==============================] - 56s 224ms/step - loss: 0.0988 - accuracy: 0.9638 - val_loss: 0.7951 - val_accuracy: 0.8035\n",
      "Epoch 47/50\n",
      "250/250 [==============================] - 56s 225ms/step - loss: 0.0993 - accuracy: 0.9617 - val_loss: 0.8779 - val_accuracy: 0.7915\n",
      "Epoch 48/50\n",
      "250/250 [==============================] - 57s 226ms/step - loss: 0.1038 - accuracy: 0.9611 - val_loss: 0.8307 - val_accuracy: 0.7905\n",
      "Epoch 49/50\n",
      "250/250 [==============================] - 57s 229ms/step - loss: 0.0902 - accuracy: 0.9676 - val_loss: 0.9280 - val_accuracy: 0.7850\n",
      "Epoch 50/50\n",
      "250/250 [==============================] - 56s 224ms/step - loss: 0.0964 - accuracy: 0.9634 - val_loss: 0.9442 - val_accuracy: 0.7910\n"
     ]
    },
    {
     "data": {
      "text/plain": [
       "<keras.callbacks.History at 0x2290fb6a490>"
      ]
     },
     "execution_count": 107,
     "metadata": {},
     "output_type": "execute_result"
    }
   ],
   "source": [
    "cnn.fit(x=training_set, validation_data=test_set, epochs=50, verbose=1)"
   ]
  },
  {
   "cell_type": "markdown",
   "metadata": {
    "id": "U3PZasO0006Z"
   },
   "source": [
    "## Part 4 - Making a single prediction"
   ]
  },
  {
   "cell_type": "code",
   "execution_count": 112,
   "metadata": {
    "colab": {
     "base_uri": "https://localhost:8080/"
    },
    "executionInfo": {
     "elapsed": 553,
     "status": "ok",
     "timestamp": 1727870175470,
     "user": {
      "displayName": "Hadelin de Ponteves",
      "userId": "15047218817161520419"
     },
     "user_tz": -240
    },
    "id": "gsSiWEJY1BPB",
    "outputId": "3a1eabe0-aa2b-48ac-cc6e-a32906dbf08e"
   },
   "outputs": [],
   "source": [
    "test_image = image.load_img('dataset/single_prediction/cat_or_dog_1.jpg', target_size=(64, 64))\n",
    "test_image = image.img_to_array(test_image)"
   ]
  },
  {
   "cell_type": "code",
   "execution_count": 113,
   "metadata": {
    "colab": {
     "base_uri": "https://localhost:8080/"
    },
    "executionInfo": {
     "elapsed": 402,
     "status": "ok",
     "timestamp": 1727870200094,
     "user": {
      "displayName": "Hadelin de Ponteves",
      "userId": "15047218817161520419"
     },
     "user_tz": -240
    },
    "id": "ED9KB3I54c1i",
    "outputId": "7f130fcb-f755-463d-c743-b9d3565b5e97"
   },
   "outputs": [],
   "source": [
    "test_image = np.expand_dims(test_image, axis=0)\n",
    "test_image /= 255.0"
   ]
  },
  {
   "cell_type": "code",
   "execution_count": 114,
   "metadata": {},
   "outputs": [
    {
     "name": "stdout",
     "output_type": "stream",
     "text": [
      "1/1 [==============================] - 0s 26ms/step\n",
      "{'cats': 0, 'dogs': 1}\n"
     ]
    }
   ],
   "source": [
    "result = cnn.predict(test_image)\n",
    "if result[0][0] == 1:\n",
    "    prediction = 'dog'\n",
    "else:\n",
    "    prediction = 'cat'\n",
    "    \n",
    "print(training_set.class_indices)"
   ]
  },
  {
   "cell_type": "code",
   "execution_count": 115,
   "metadata": {},
   "outputs": [
    {
     "name": "stdout",
     "output_type": "stream",
     "text": [
      "The image is predicted as: dog\n"
     ]
    }
   ],
   "source": [
    "print(f\"The image is predicted as: {prediction}\")"
   ]
  }
 ],
 "metadata": {
  "colab": {
   "authorship_tag": "ABX9TyN2fBThgo8wJQn6Xf6V6crC",
   "provenance": []
  },
  "kernelspec": {
   "display_name": "Python 3 (ipykernel)",
   "language": "python",
   "name": "python3"
  },
  "language_info": {
   "codemirror_mode": {
    "name": "ipython",
    "version": 3
   },
   "file_extension": ".py",
   "mimetype": "text/x-python",
   "name": "python",
   "nbconvert_exporter": "python",
   "pygments_lexer": "ipython3",
   "version": "3.11.5"
  }
 },
 "nbformat": 4,
 "nbformat_minor": 4
}
